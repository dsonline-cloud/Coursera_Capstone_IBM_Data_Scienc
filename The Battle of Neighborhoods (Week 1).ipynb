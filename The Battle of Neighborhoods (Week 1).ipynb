{
 "cells": [
  {
   "cell_type": "markdown",
   "metadata": {
    "collapsed": true
   },
   "source": [
    "<h1 align=\"center\">Battle of Neighborhoods</h1>\n",
    "<h2 align=\"center\">An Apartment in Manhattan</h2>"
   ]
  },
  {
   "cell_type": "markdown",
   "metadata": {},
   "source": [
    "## Introduction Section"
   ]
  },
  {
   "cell_type": "markdown",
   "metadata": {},
   "source": [
    "Discussion of the business problem and the audience who would be interested in this project.\n",
    "\n",
    "Description of the Problem and Background\n",
    "\n",
    "### Scenario:\n",
    "\n",
    "I am a data scientist residing in Downtown Los Angeles. I currently live within walking distance to Downtown metro station and I enjoy many ammenities and venues in the area, such as various international cousine restaurants, cafes, food shops and entertainment. I have been offered a great opportunity to work for a leader firm in Manhattan, NY. I am very excited and I want to use this opportunity to practice my learnings in Coursera in order to answer relevant questions arisen. The key question is \n",
    "\n",
    "#### How can I find a convenient and enjoyable place similar to mine now in Los Angeles? Certainly, I can use available real estate apps and Google but the idea is to use and apply myself the learned tools during the course. In order to make a comparison and evaluation of the rental options in Manhattan NY, I must set some basis, therefore the apartment in Manhattan must meet the following demands:\n",
    "\n",
    "1. Apartment must be 2 or 3 bedrooms \n",
    "\n",
    "2. desired location is near a metro station in the Manhattan area and within 1.0 mile (1.6 km) radius \n",
    "\n",
    "3. price of rent not exceed 7000 dollars per month \n",
    "\n",
    "4. Top ammenities in the selected neighborhood shall be similar to current residence. \n",
    "\n",
    "5. Desirable to have venues such as coffee shops, restaurants Asian Thai, wine stores, gym and food."
   ]
  },
  {
   "cell_type": "markdown",
   "metadata": {},
   "source": [
    "## Business Problem:"
   ]
  },
  {
   "cell_type": "markdown",
   "metadata": {},
   "source": [
    "The challenge is to find a suitable apartment for rent in Manhattan NY that complies with the demands on location, price and venues. The data required to resolve this challenge is described below."
   ]
  },
  {
   "cell_type": "markdown",
   "metadata": {},
   "source": [
    "## Interested Audience:"
   ]
  },
  {
   "cell_type": "markdown",
   "metadata": {},
   "source": [
    "I believe this is a relevant challenge with valid questions for anyone moving to other large city in US, EU or Asia. The same methodology can be applied in accordance to demands as applicable. This case is also applicable for anyone interested in exploring starting or locating a new business in any city. Lastly, it can also serve as a good practical exercise to develop Data Science skills."
   ]
  },
  {
   "cell_type": "markdown",
   "metadata": {},
   "source": [
    "## Data Section:"
   ]
  },
  {
   "cell_type": "markdown",
   "metadata": {},
   "source": [
    "Description of the Data:\n",
    "\n",
    "The following data is required to answer the issues of the problem:\n",
    "\n",
    "1. List of Boroughs and neighborhoods of Manhattan with their geodata (latitude and longitude) \n",
    "2. List of Subway metro stations in Manhattan with their address location \n",
    "3. List of apartments for rent in Manhattan area with their addresses and price \n",
    "4. Preferably, a list of apartment for rent with additional information, such as price, address, area, no. of beds, etc \n",
    "5. Venues for each Manhattan neighborhood ( than can be clustered) -Venues for subway metro stations, as needed"
   ]
  },
  {
   "cell_type": "markdown",
   "metadata": {},
   "source": [
    "### The data will be used as follows:\n",
    "\n",
    "1. Use Foursquare and geopy data to map top 10 venues for all Manhattan neighborhoods and clustered in groups (as per Course LAB) \n",
    "2. Use foursquare and geopy data to map the location of subway metro stations , separately and on top of the above clustered map in order to be able to identify the venues and ammenities near each metro station, or explore each subway location separately \n",
    "3. Use Foursquare and geopy data to map the location of rental places, in some form, linked to the subway locations. \n",
    "4. Create a map that depicts, for instance, the average rental price per square ft, around a radious of 1.0 mile (1.6 km) around each subway station or a similar metrics. I will be able to quickly point to the popups to know the relative price per subway area.\n",
    "5. Addresses from rental locations will be converted to geodata( lat, long) using Geopy-distance and Nominatim. \n",
    "6. Data will be searched in open data sources if available, from real estate sites if open to reading, libraries or other government agencies such as Metro New York MTA, etc."
   ]
  },
  {
   "cell_type": "markdown",
   "metadata": {},
   "source": [
    "### Foursquare API:\n",
    "This project would use Four-square API as its prime data gathering source as it has a database of millions of places, especially their places API which provides the ability to perform location search, location sharing and details about a business."
   ]
  },
  {
   "cell_type": "markdown",
   "metadata": {},
   "source": [
    "### The procesing of these DATA will allow to answer the key questions to make a decision:\n",
    "\n",
    "1. what is the cost of rent (per square ft) around a mile radius from each subway metro station? \n",
    "2. what is the area of Manhattan with best rental pricing that meets criteria established? \n",
    "3. What is the distance from work place ( Park Ave and 53 rd St) and the tentative future home? \n",
    "4. What are the venues of the two best places to live? How the prices compare? \n",
    "5. How venues distribute among Manhattan neighborhoods and around metro stations? \n",
    "6. Are there tradeoffs between size and price and location? \n",
    "7. Any other interesting statistical data findings of the real estate and overall data."
   ]
  },
  {
   "cell_type": "markdown",
   "metadata": {},
   "source": [
    "### Download and Explore Dataset\n",
    "\n",
    "Download and Explore Dataset Neighborhood has a total of 5 boroughs and 306 neighborhoods. In order to segement the neighborhoods and explore them, we will essentially need a dataset that contains the 5 boroughs and the neighborhoods that exist in each borough as well as the the latitude and logitude coordinates of each neighborhood.\n",
    "\n",
    "Luckily, this dataset exists for free on the web. Feel free to try to find this dataset on your own, but here is the link to the dataset: https://geo.nyu.edu/catalog/nyu_2451_34572\n",
    "\n",
    "For your convenience, I downloaded the files and placed it on the server, so you can simply run a wget command and access the data. So let's go ahead and do that."
   ]
  },
  {
   "cell_type": "code",
   "execution_count": null,
   "metadata": {},
   "outputs": [],
   "source": []
  }
 ],
 "metadata": {
  "kernelspec": {
   "display_name": "Python 3",
   "language": "python",
   "name": "python3"
  },
  "language_info": {
   "codemirror_mode": {
    "name": "ipython",
    "version": 3
   },
   "file_extension": ".py",
   "mimetype": "text/x-python",
   "name": "python",
   "nbconvert_exporter": "python",
   "pygments_lexer": "ipython3",
   "version": "3.8.8"
  }
 },
 "nbformat": 4,
 "nbformat_minor": 1
}
